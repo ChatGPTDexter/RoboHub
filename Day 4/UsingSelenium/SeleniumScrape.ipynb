{
 "cells": [
  {
   "cell_type": "markdown",
   "metadata": {},
   "source": [
    "## 1. Importing Necessary Libraries\n",
    "\n",
    "First, we need to import the necessary libraries that will be used in this notebook."
   ]
  },
  {
   "cell_type": "code",
   "execution_count": 7,
   "metadata": {},
   "outputs": [
    {
     "name": "stdout",
     "output_type": "stream",
     "text": [
      "Defaulting to user installation because normal site-packages is not writeable\n",
      "Collecting selenium\n",
      "  Downloading selenium-4.23.1-py3-none-any.whl (9.4 MB)\n",
      "\u001b[K     |████████████████████████████████| 9.4 MB 1.8 MB/s eta 0:00:01     |█                               | 327 kB 3.1 MB/s eta 0:00:03     |█████████████                   | 3.9 MB 3.1 MB/s eta 0:00:02     |███████████████                 | 4.4 MB 3.1 MB/s eta 0:00:02 |████████████████████████████▏   | 8.3 MB 3.1 MB/s eta 0:00:01     |█████████████████████████████▏  | 8.6 MB 1.8 MB/s eta 0:00:01\n",
      "\u001b[?25hCollecting trio~=0.17\n",
      "  Downloading trio-0.26.0-py3-none-any.whl (475 kB)\n",
      "\u001b[K     |████████████████████████████████| 475 kB 8.9 MB/s eta 0:00:01\n",
      "\u001b[?25hCollecting typing_extensions~=4.9\n",
      "  Using cached typing_extensions-4.12.2-py3-none-any.whl (37 kB)\n",
      "Collecting trio-websocket~=0.9\n",
      "  Downloading trio_websocket-0.11.1-py3-none-any.whl (17 kB)\n",
      "Collecting certifi>=2021.10.8\n",
      "  Downloading certifi-2024.7.4-py3-none-any.whl (162 kB)\n",
      "\u001b[K     |████████████████████████████████| 162 kB 9.9 MB/s eta 0:00:01\n",
      "\u001b[?25hCollecting websocket-client~=1.8\n",
      "  Downloading websocket_client-1.8.0-py3-none-any.whl (58 kB)\n",
      "\u001b[K     |████████████████████████████████| 58 kB 4.2 MB/s eta 0:00:01\n",
      "\u001b[?25hCollecting urllib3[socks]<3,>=1.26\n",
      "  Downloading urllib3-2.2.2-py3-none-any.whl (121 kB)\n",
      "\u001b[K     |████████████████████████████████| 121 kB 4.1 MB/s eta 0:00:01\n",
      "\u001b[?25hCollecting idna\n",
      "  Downloading idna-3.7-py3-none-any.whl (66 kB)\n",
      "\u001b[K     |████████████████████████████████| 66 kB 1.4 MB/s eta 0:00:01\n",
      "\u001b[?25hCollecting attrs>=23.2.0\n",
      "  Downloading attrs-23.2.0-py3-none-any.whl (60 kB)\n",
      "\u001b[K     |████████████████████████████████| 60 kB 3.8 MB/s eta 0:00:01\n",
      "\u001b[?25hCollecting outcome\n",
      "  Downloading outcome-1.3.0.post0-py2.py3-none-any.whl (10 kB)\n",
      "Collecting sortedcontainers\n",
      "  Downloading sortedcontainers-2.4.0-py2.py3-none-any.whl (29 kB)\n",
      "Collecting sniffio>=1.3.0\n",
      "  Downloading sniffio-1.3.1-py3-none-any.whl (10 kB)\n",
      "Collecting exceptiongroup\n",
      "  Using cached exceptiongroup-1.2.2-py3-none-any.whl (16 kB)\n",
      "Collecting wsproto>=0.14\n",
      "  Downloading wsproto-1.2.0-py3-none-any.whl (24 kB)\n",
      "Collecting pysocks!=1.5.7,<2.0,>=1.5.6\n",
      "  Downloading PySocks-1.7.1-py3-none-any.whl (16 kB)\n",
      "Collecting h11<1,>=0.9.0\n",
      "  Downloading h11-0.14.0-py3-none-any.whl (58 kB)\n",
      "\u001b[K     |████████████████████████████████| 58 kB 5.3 MB/s  eta 0:00:01\n",
      "\u001b[?25hInstalling collected packages: attrs, sortedcontainers, sniffio, outcome, idna, h11, exceptiongroup, wsproto, urllib3, trio, pysocks, websocket-client, typing-extensions, trio-websocket, certifi, selenium\n",
      "  Attempting uninstall: exceptiongroup\n",
      "    Found existing installation: exceptiongroup 1.2.2\n",
      "    Uninstalling exceptiongroup-1.2.2:\n",
      "      Successfully uninstalled exceptiongroup-1.2.2\n",
      "  Attempting uninstall: typing-extensions\n",
      "    Found existing installation: typing-extensions 4.12.2\n",
      "    Uninstalling typing-extensions-4.12.2:\n",
      "      Successfully uninstalled typing-extensions-4.12.2\n",
      "Successfully installed attrs-23.2.0 certifi-2024.7.4 exceptiongroup-1.2.2 h11-0.14.0 idna-3.7 outcome-1.3.0.post0 pysocks-1.7.1 selenium-4.23.1 sniffio-1.3.1 sortedcontainers-2.4.0 trio-0.26.0 trio-websocket-0.11.1 typing-extensions-4.12.2 urllib3-2.2.2 websocket-client-1.8.0 wsproto-1.2.0\n",
      "\u001b[33mWARNING: You are using pip version 21.2.4; however, version 24.1.2 is available.\n",
      "You should consider upgrading via the '/Library/Developer/CommandLineTools/usr/bin/python3 -m pip install --upgrade pip' command.\u001b[0m\n"
     ]
    },
    {
     "name": "stderr",
     "output_type": "stream",
     "text": [
      "/Users/isaacgutterman/Library/Python/3.9/lib/python/site-packages/urllib3/__init__.py:35: NotOpenSSLWarning: urllib3 v2 only supports OpenSSL 1.1.1+, currently the 'ssl' module is compiled with 'LibreSSL 2.8.3'. See: https://github.com/urllib3/urllib3/issues/3020\n",
      "  warnings.warn(\n"
     ]
    }
   ],
   "source": [
    "!pip3 install --force-reinstall selenium\n",
    "\n",
    "import csv\n",
    "from selenium import webdriver\n",
    "from selenium.webdriver.common.by import By\n",
    "from selenium.webdriver.support.ui import WebDriverWait\n",
    "from selenium.webdriver.support import expected_conditions as EC\n",
    "from selenium.webdriver.chrome.options import Options\n",
    "import os\n",
    "import time\n"
   ]
  },
  {
   "cell_type": "markdown",
   "metadata": {},
   "source": [
    "## 2. Writing Data to a CSV File\n",
    "\n",
    "We need a function to write the collected job information into a CSV file. This function will take the data as input and append it to the specified CSV file.\n"
   ]
  },
  {
   "cell_type": "code",
   "execution_count": 8,
   "metadata": {},
   "outputs": [],
   "source": [
    "def write_to_csv(data):\n",
    "    # Specify the CSV file path\n",
    "    csv_file_path = 'internships.csv'\n",
    "\n",
    "    # Write the data to the CSV file\n",
    "    with open(csv_file_path, 'a', newline='', encoding='utf-8') as csv_file:\n",
    "        fieldnames = ['Job Title', 'Job URL', 'Company', 'Location', 'Job Description', 'Salary']\n",
    "        writer = csv.DictWriter(csv_file, fieldnames=fieldnames)\n",
    "\n",
    "        # Write the data rows\n",
    "        writer.writerows(data)\n"
   ]
  },
  {
   "cell_type": "markdown",
   "metadata": {},
   "source": [
    "## 3. Configuring and Initializing the Web Driver\n",
    "\n",
    "Next, we will configure and initialize the Selenium web driver. We will use Chrome in incognito mode to scrape the job listings.\n"
   ]
  },
  {
   "cell_type": "code",
   "execution_count": 9,
   "metadata": {},
   "outputs": [],
   "source": [
    "if __name__ == \"__main__\":\n",
    "    options = Options()\n",
    "    options.add_argument(\"--incognito\") # Add any other options\n",
    "    driver = webdriver.Chrome(options=options)\n"
   ]
  },
  {
   "cell_type": "markdown",
   "metadata": {},
   "source": [
    "## 4. Scraping Job Listings from Indeed\n",
    "\n",
    "We will define the job title and location we are interested in and construct the URL for the job search. Then, we will scrape the job listings from the search results.\n"
   ]
  },
  {
   "cell_type": "code",
   "execution_count": 10,
   "metadata": {},
   "outputs": [
    {
     "ename": "NoSuchWindowException",
     "evalue": "Message: no such window: target window already closed\nfrom unknown error: web view not found\n  (Session info: chrome=126.0.6478.185)\nStacktrace:\n0   chromedriver                        0x00000001027e0078 chromedriver + 5169272\n1   chromedriver                        0x00000001027d7f4a chromedriver + 5136202\n2   chromedriver                        0x000000010235436c chromedriver + 402284\n3   chromedriver                        0x00000001023295f4 chromedriver + 226804\n4   chromedriver                        0x00000001023cd53d chromedriver + 898365\n5   chromedriver                        0x00000001023e3908 chromedriver + 989448\n6   chromedriver                        0x00000001023c4853 chromedriver + 862291\n7   chromedriver                        0x00000001023945c6 chromedriver + 665030\n8   chromedriver                        0x0000000102394e4e chromedriver + 667214\n9   chromedriver                        0x00000001027a2c90 chromedriver + 4918416\n10  chromedriver                        0x00000001027a7c8d chromedriver + 4938893\n11  chromedriver                        0x00000001027a8365 chromedriver + 4940645\n12  chromedriver                        0x0000000102783d74 chromedriver + 4791668\n13  chromedriver                        0x00000001027a8659 chromedriver + 4941401\n14  chromedriver                        0x0000000102775544 chromedriver + 4732228\n15  chromedriver                        0x00000001027c8828 chromedriver + 5072936\n16  chromedriver                        0x00000001027c89e7 chromedriver + 5073383\n17  chromedriver                        0x00000001027d7afe chromedriver + 5135102\n18  libsystem_pthread.dylib             0x00007ff81066218b _pthread_start + 99\n19  libsystem_pthread.dylib             0x00007ff81065dae3 thread_start + 15\n",
     "output_type": "error",
     "traceback": [
      "\u001b[0;31m---------------------------------------------------------------------------\u001b[0m",
      "\u001b[0;31mNoSuchWindowException\u001b[0m                     Traceback (most recent call last)",
      "Cell \u001b[0;32mIn[10], line 19\u001b[0m\n\u001b[1;32m     16\u001b[0m data \u001b[38;5;241m=\u001b[39m []\n\u001b[1;32m     17\u001b[0m driver\u001b[38;5;241m.\u001b[39mimplicitly_wait(\u001b[38;5;241m3\u001b[39m)\n\u001b[0;32m---> 19\u001b[0m p_element \u001b[38;5;241m=\u001b[39m \u001b[43mwait\u001b[49m\u001b[38;5;241;43m.\u001b[39;49m\u001b[43muntil\u001b[49m\u001b[43m(\u001b[49m\u001b[43mEC\u001b[49m\u001b[38;5;241;43m.\u001b[39;49m\u001b[43mpresence_of_element_located\u001b[49m\u001b[43m(\u001b[49m\u001b[43m(\u001b[49m\u001b[43mBy\u001b[49m\u001b[38;5;241;43m.\u001b[39;49m\u001b[43mID\u001b[49m\u001b[43m,\u001b[49m\u001b[43m \u001b[49m\u001b[38;5;124;43m'\u001b[39;49m\u001b[38;5;124;43mjobsearch-JapanPage\u001b[39;49m\u001b[38;5;124;43m'\u001b[39;49m\u001b[43m)\u001b[49m\u001b[43m)\u001b[49m\u001b[43m)\u001b[49m\n\u001b[1;32m     20\u001b[0m job_listings \u001b[38;5;241m=\u001b[39m p_element\u001b[38;5;241m.\u001b[39mfind_elements(By\u001b[38;5;241m.\u001b[39mCSS_SELECTOR, \u001b[38;5;124m'\u001b[39m\u001b[38;5;124mli.css-5lfssm\u001b[39m\u001b[38;5;124m'\u001b[39m)\n\u001b[1;32m     22\u001b[0m current_job \u001b[38;5;241m=\u001b[39m job_listings[job_counter]\n",
      "File \u001b[0;32m~/Library/Python/3.9/lib/python/site-packages/selenium/webdriver/support/wait.py:96\u001b[0m, in \u001b[0;36mWebDriverWait.until\u001b[0;34m(self, method, message)\u001b[0m\n\u001b[1;32m     94\u001b[0m \u001b[38;5;28;01mwhile\u001b[39;00m \u001b[38;5;28;01mTrue\u001b[39;00m:\n\u001b[1;32m     95\u001b[0m     \u001b[38;5;28;01mtry\u001b[39;00m:\n\u001b[0;32m---> 96\u001b[0m         value \u001b[38;5;241m=\u001b[39m \u001b[43mmethod\u001b[49m\u001b[43m(\u001b[49m\u001b[38;5;28;43mself\u001b[39;49m\u001b[38;5;241;43m.\u001b[39;49m\u001b[43m_driver\u001b[49m\u001b[43m)\u001b[49m\n\u001b[1;32m     97\u001b[0m         \u001b[38;5;28;01mif\u001b[39;00m value:\n\u001b[1;32m     98\u001b[0m             \u001b[38;5;28;01mreturn\u001b[39;00m value\n",
      "File \u001b[0;32m~/Library/Python/3.9/lib/python/site-packages/selenium/webdriver/support/expected_conditions.py:84\u001b[0m, in \u001b[0;36mpresence_of_element_located.<locals>._predicate\u001b[0;34m(driver)\u001b[0m\n\u001b[1;32m     83\u001b[0m \u001b[38;5;28;01mdef\u001b[39;00m \u001b[38;5;21m_predicate\u001b[39m(driver: WebDriverOrWebElement):\n\u001b[0;32m---> 84\u001b[0m     \u001b[38;5;28;01mreturn\u001b[39;00m \u001b[43mdriver\u001b[49m\u001b[38;5;241;43m.\u001b[39;49m\u001b[43mfind_element\u001b[49m\u001b[43m(\u001b[49m\u001b[38;5;241;43m*\u001b[39;49m\u001b[43mlocator\u001b[49m\u001b[43m)\u001b[49m\n",
      "File \u001b[0;32m~/Library/Python/3.9/lib/python/site-packages/selenium/webdriver/remote/webdriver.py:748\u001b[0m, in \u001b[0;36mWebDriver.find_element\u001b[0;34m(self, by, value)\u001b[0m\n\u001b[1;32m    745\u001b[0m     by \u001b[38;5;241m=\u001b[39m By\u001b[38;5;241m.\u001b[39mCSS_SELECTOR\n\u001b[1;32m    746\u001b[0m     value \u001b[38;5;241m=\u001b[39m \u001b[38;5;124mf\u001b[39m\u001b[38;5;124m'\u001b[39m\u001b[38;5;124m[name=\u001b[39m\u001b[38;5;124m\"\u001b[39m\u001b[38;5;132;01m{\u001b[39;00mvalue\u001b[38;5;132;01m}\u001b[39;00m\u001b[38;5;124m\"\u001b[39m\u001b[38;5;124m]\u001b[39m\u001b[38;5;124m'\u001b[39m\n\u001b[0;32m--> 748\u001b[0m \u001b[38;5;28;01mreturn\u001b[39;00m \u001b[38;5;28;43mself\u001b[39;49m\u001b[38;5;241;43m.\u001b[39;49m\u001b[43mexecute\u001b[49m\u001b[43m(\u001b[49m\u001b[43mCommand\u001b[49m\u001b[38;5;241;43m.\u001b[39;49m\u001b[43mFIND_ELEMENT\u001b[49m\u001b[43m,\u001b[49m\u001b[43m \u001b[49m\u001b[43m{\u001b[49m\u001b[38;5;124;43m\"\u001b[39;49m\u001b[38;5;124;43musing\u001b[39;49m\u001b[38;5;124;43m\"\u001b[39;49m\u001b[43m:\u001b[49m\u001b[43m \u001b[49m\u001b[43mby\u001b[49m\u001b[43m,\u001b[49m\u001b[43m \u001b[49m\u001b[38;5;124;43m\"\u001b[39;49m\u001b[38;5;124;43mvalue\u001b[39;49m\u001b[38;5;124;43m\"\u001b[39;49m\u001b[43m:\u001b[49m\u001b[43m \u001b[49m\u001b[43mvalue\u001b[49m\u001b[43m}\u001b[49m\u001b[43m)\u001b[49m[\u001b[38;5;124m\"\u001b[39m\u001b[38;5;124mvalue\u001b[39m\u001b[38;5;124m\"\u001b[39m]\n",
      "File \u001b[0;32m~/Library/Python/3.9/lib/python/site-packages/selenium/webdriver/remote/webdriver.py:354\u001b[0m, in \u001b[0;36mWebDriver.execute\u001b[0;34m(self, driver_command, params)\u001b[0m\n\u001b[1;32m    352\u001b[0m response \u001b[38;5;241m=\u001b[39m \u001b[38;5;28mself\u001b[39m\u001b[38;5;241m.\u001b[39mcommand_executor\u001b[38;5;241m.\u001b[39mexecute(driver_command, params)\n\u001b[1;32m    353\u001b[0m \u001b[38;5;28;01mif\u001b[39;00m response:\n\u001b[0;32m--> 354\u001b[0m     \u001b[38;5;28;43mself\u001b[39;49m\u001b[38;5;241;43m.\u001b[39;49m\u001b[43merror_handler\u001b[49m\u001b[38;5;241;43m.\u001b[39;49m\u001b[43mcheck_response\u001b[49m\u001b[43m(\u001b[49m\u001b[43mresponse\u001b[49m\u001b[43m)\u001b[49m\n\u001b[1;32m    355\u001b[0m     response[\u001b[38;5;124m\"\u001b[39m\u001b[38;5;124mvalue\u001b[39m\u001b[38;5;124m\"\u001b[39m] \u001b[38;5;241m=\u001b[39m \u001b[38;5;28mself\u001b[39m\u001b[38;5;241m.\u001b[39m_unwrap_value(response\u001b[38;5;241m.\u001b[39mget(\u001b[38;5;124m\"\u001b[39m\u001b[38;5;124mvalue\u001b[39m\u001b[38;5;124m\"\u001b[39m, \u001b[38;5;28;01mNone\u001b[39;00m))\n\u001b[1;32m    356\u001b[0m     \u001b[38;5;28;01mreturn\u001b[39;00m response\n",
      "File \u001b[0;32m~/Library/Python/3.9/lib/python/site-packages/selenium/webdriver/remote/errorhandler.py:229\u001b[0m, in \u001b[0;36mErrorHandler.check_response\u001b[0;34m(self, response)\u001b[0m\n\u001b[1;32m    227\u001b[0m         alert_text \u001b[38;5;241m=\u001b[39m value[\u001b[38;5;124m\"\u001b[39m\u001b[38;5;124malert\u001b[39m\u001b[38;5;124m\"\u001b[39m]\u001b[38;5;241m.\u001b[39mget(\u001b[38;5;124m\"\u001b[39m\u001b[38;5;124mtext\u001b[39m\u001b[38;5;124m\"\u001b[39m)\n\u001b[1;32m    228\u001b[0m     \u001b[38;5;28;01mraise\u001b[39;00m exception_class(message, screen, stacktrace, alert_text)  \u001b[38;5;66;03m# type: ignore[call-arg]  # mypy is not smart enough here\u001b[39;00m\n\u001b[0;32m--> 229\u001b[0m \u001b[38;5;28;01mraise\u001b[39;00m exception_class(message, screen, stacktrace)\n",
      "\u001b[0;31mNoSuchWindowException\u001b[0m: Message: no such window: target window already closed\nfrom unknown error: web view not found\n  (Session info: chrome=126.0.6478.185)\nStacktrace:\n0   chromedriver                        0x00000001027e0078 chromedriver + 5169272\n1   chromedriver                        0x00000001027d7f4a chromedriver + 5136202\n2   chromedriver                        0x000000010235436c chromedriver + 402284\n3   chromedriver                        0x00000001023295f4 chromedriver + 226804\n4   chromedriver                        0x00000001023cd53d chromedriver + 898365\n5   chromedriver                        0x00000001023e3908 chromedriver + 989448\n6   chromedriver                        0x00000001023c4853 chromedriver + 862291\n7   chromedriver                        0x00000001023945c6 chromedriver + 665030\n8   chromedriver                        0x0000000102394e4e chromedriver + 667214\n9   chromedriver                        0x00000001027a2c90 chromedriver + 4918416\n10  chromedriver                        0x00000001027a7c8d chromedriver + 4938893\n11  chromedriver                        0x00000001027a8365 chromedriver + 4940645\n12  chromedriver                        0x0000000102783d74 chromedriver + 4791668\n13  chromedriver                        0x00000001027a8659 chromedriver + 4941401\n14  chromedriver                        0x0000000102775544 chromedriver + 4732228\n15  chromedriver                        0x00000001027c8828 chromedriver + 5072936\n16  chromedriver                        0x00000001027c89e7 chromedriver + 5073383\n17  chromedriver                        0x00000001027d7afe chromedriver + 5135102\n18  libsystem_pthread.dylib             0x00007ff81066218b _pthread_start + 99\n19  libsystem_pthread.dylib             0x00007ff81065dae3 thread_start + 15\n"
     ]
    }
   ],
   "source": [
    "    job_ = 'Data+Engineer'\n",
    "    location = 'Boston'\n",
    "    url = f\"https://www.indeed.com/jobs?q={job_}&l={location}&vjk=d8e1abf4ae32e95e\"\n",
    "    numOfPages = 5\n",
    "    driver.get(url)\n",
    "\n",
    "    page_num = 1\n",
    "\n",
    "    for i in range(numOfPages):\n",
    "        job_counter = 0\n",
    "        wait = WebDriverWait(driver, 10)\n",
    "        p_element = wait.until(EC.presence_of_element_located((By.ID, 'jobsearch-JapanPage')))\n",
    "\n",
    "        job_listings = p_element.find_elements(By.CSS_SELECTOR, 'li.css-5lfssm')\n",
    "        for job_listing in job_listings:\n",
    "            data = []\n",
    "            driver.implicitly_wait(3)\n",
    "            \n",
    "            p_element = wait.until(EC.presence_of_element_located((By.ID, 'jobsearch-JapanPage')))\n",
    "            job_listings = p_element.find_elements(By.CSS_SELECTOR, 'li.css-5lfssm')\n",
    "\n",
    "            current_job = job_listings[job_counter]\n",
    "\n",
    "            driver.implicitly_wait(3)\n",
    "            try:\n",
    "                title = current_job.find_element(By.CSS_SELECTOR, 'h2.jobTitle').text\n",
    "            except:\n",
    "                job_counter += 1\n",
    "                continue\n",
    "\n",
    "            job_link_element = current_job.find_element(By.XPATH, f'/html/body/main/div/div[2]/div/div[5]/div/div[1]/div[5]/div/ul/li[{job_counter + 1}]/div/div[1]/div/div/div/table[1]/tbody/tr/td/div[1]/h2/a')\n",
    "            job_link = job_link_element.get_attribute('href')\n",
    "\n",
    "            driver.get(job_link)\n",
    "            \n",
    "            time.sleep(3)\n",
    "            main = driver.find_element(By.CSS_SELECTOR, 'div.jobsearch-JobComponent')\n",
    "            try:\n",
    "                salary = main.find_element(By.CSS_SELECTOR, 'span.css-19j1a75').text \n",
    "            except:\n",
    "                salary = 'undefined'\n",
    "\n",
    "            mini_main = main.find_element(By.CSS_SELECTOR, 'div.css-kyg8or')\n",
    "            try: \n",
    "                location = mini_main.find_element(By.XPATH, '//*[@id=\"viewJobSSRRoot\"]/div[2]/div[3]/div/div/div[1]/div[2]/div[1]/div[2]/div/div/div/div[2]').text\n",
    "            except:\n",
    "                job_counter += 1\n",
    "                driver.get(url)\n",
    "                continue\n",
    "\n",
    "            company = main.find_element(By.CSS_SELECTOR, 'a.e19afand0').text\n",
    "\n",
    "            summary = main.find_element(By.ID, 'jobDescriptionText').text\n",
    "            summary = summary.replace(\"\\n\", \" \")\n",
    "\n",
    "            data.append({'Job Title': title, 'Job URL': job_link, 'Company': company, 'Location': location, 'Job Description': summary, 'Salary': salary})\n",
    "            write_to_csv(data)\n",
    "            \n",
    "            job_counter += 1\n",
    "            driver.get(url)\n"
   ]
  },
  {
   "cell_type": "markdown",
   "metadata": {},
   "source": [
    "## 5. Navigating to the Next Page\n",
    "\n",
    "We will also need to handle pagination to scrape multiple pages of job listings. The following code snippet will navigate to the next page of job listings.\n"
   ]
  },
  {
   "cell_type": "code",
   "execution_count": null,
   "metadata": {},
   "outputs": [],
   "source": [
    "        page_list = p_element.find_element(By.CSS_SELECTOR, 'ul.css-1g90gv6')\n",
    "\n",
    "        pageNums = page_list.find_elements(By.CSS_SELECTOR,'li.css-227srf')\n",
    "\n",
    "        for num in pageNums:\n",
    "            try:\n",
    "                num_in_list = int(num.text)\n",
    "            except:\n",
    "                continue\n",
    "\n",
    "            if (page_num + 1)  == num_in_list:\n",
    "                page_num += 1\n",
    "                num.click()\n",
    "                driver.implicitly_wait(3)\n",
    "                url = driver.current_url\n",
    "                break\n",
    "            else: \n",
    "                continue\n",
    "\n",
    "    driver.quit()\n"
   ]
  }
 ],
 "metadata": {
  "kernelspec": {
   "display_name": "Python 3",
   "language": "python",
   "name": "python3"
  },
  "language_info": {
   "codemirror_mode": {
    "name": "ipython",
    "version": 3
   },
   "file_extension": ".py",
   "mimetype": "text/x-python",
   "name": "python",
   "nbconvert_exporter": "python",
   "pygments_lexer": "ipython3",
   "version": "3.9.6"
  }
 },
 "nbformat": 4,
 "nbformat_minor": 2
}
