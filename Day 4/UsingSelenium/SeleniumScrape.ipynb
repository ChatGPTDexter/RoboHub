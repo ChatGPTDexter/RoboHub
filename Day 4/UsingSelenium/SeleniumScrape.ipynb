{
 "cells": [
  {
   "cell_type": "markdown",
   "metadata": {},
   "source": [
    "## 1. Importing Necessary Libraries\n",
    "\n",
    "First, we need to import the necessary libraries that will be used in this notebook."
   ]
  },
  {
   "cell_type": "code",
   "execution_count": 3,
   "metadata": {},
   "outputs": [
    {
     "ename": "ModuleNotFoundError",
     "evalue": "No module named 'selenium'",
     "output_type": "error",
     "traceback": [
      "\u001b[0;31m---------------------------------------------------------------------------\u001b[0m",
      "\u001b[0;31mModuleNotFoundError\u001b[0m                       Traceback (most recent call last)",
      "Cell \u001b[0;32mIn[3], line 2\u001b[0m\n\u001b[1;32m      1\u001b[0m \u001b[38;5;28;01mimport\u001b[39;00m \u001b[38;5;21;01mcsv\u001b[39;00m\n\u001b[0;32m----> 2\u001b[0m \u001b[38;5;28;01mfrom\u001b[39;00m \u001b[38;5;21;01mselenium\u001b[39;00m \u001b[38;5;28;01mimport\u001b[39;00m webdriver\n\u001b[1;32m      3\u001b[0m \u001b[38;5;28;01mfrom\u001b[39;00m \u001b[38;5;21;01mselenium\u001b[39;00m\u001b[38;5;21;01m.\u001b[39;00m\u001b[38;5;21;01mwebdriver\u001b[39;00m\u001b[38;5;21;01m.\u001b[39;00m\u001b[38;5;21;01mcommon\u001b[39;00m\u001b[38;5;21;01m.\u001b[39;00m\u001b[38;5;21;01mby\u001b[39;00m \u001b[38;5;28;01mimport\u001b[39;00m By\n\u001b[1;32m      4\u001b[0m \u001b[38;5;28;01mfrom\u001b[39;00m \u001b[38;5;21;01mselenium\u001b[39;00m\u001b[38;5;21;01m.\u001b[39;00m\u001b[38;5;21;01mwebdriver\u001b[39;00m\u001b[38;5;21;01m.\u001b[39;00m\u001b[38;5;21;01msupport\u001b[39;00m\u001b[38;5;21;01m.\u001b[39;00m\u001b[38;5;21;01mui\u001b[39;00m \u001b[38;5;28;01mimport\u001b[39;00m WebDriverWait\n",
      "\u001b[0;31mModuleNotFoundError\u001b[0m: No module named 'selenium'"
     ]
    }
   ],
   "source": [
    "import csv\n",
    "from selenium import webdriver\n",
    "from selenium.webdriver.common.by import By\n",
    "from selenium.webdriver.support.ui import WebDriverWait\n",
    "from selenium.webdriver.support import expected_conditions as EC\n",
    "from selenium.webdriver.chrome.options import Options\n",
    "import os\n",
    "import time\n"
   ]
  },
  {
   "cell_type": "markdown",
   "metadata": {},
   "source": [
    "## 2. Writing Data to a CSV File\n",
    "\n",
    "We need a function to write the collected job information into a CSV file. This function will take the data as input and append it to the specified CSV file.\n"
   ]
  },
  {
   "cell_type": "code",
   "execution_count": null,
   "metadata": {},
   "outputs": [],
   "source": [
    "def write_to_csv(data):\n",
    "    # Specify the CSV file path\n",
    "    csv_file_path = 'internships.csv'\n",
    "\n",
    "    # Write the data to the CSV file\n",
    "    with open(csv_file_path, 'a', newline='', encoding='utf-8') as csv_file:\n",
    "        fieldnames = ['Job Title', 'Job URL', 'Company', 'Location', 'Job Description', 'Salary']\n",
    "        writer = csv.DictWriter(csv_file, fieldnames=fieldnames)\n",
    "\n",
    "        # Write the data rows\n",
    "        writer.writerows(data)\n"
   ]
  },
  {
   "cell_type": "markdown",
   "metadata": {},
   "source": [
    "## 3. Configuring and Initializing the Web Driver\n",
    "\n",
    "Next, we will configure and initialize the Selenium web driver. We will use Chrome in incognito mode to scrape the job listings.\n"
   ]
  },
  {
   "cell_type": "code",
   "execution_count": null,
   "metadata": {},
   "outputs": [],
   "source": [
    "if __name__ == \"__main__\":\n",
    "    options = Options()\n",
    "    options.add_argument(\"--incognito\") # Add any other options\n",
    "    driver = webdriver.Chrome(options=options)\n"
   ]
  },
  {
   "cell_type": "markdown",
   "metadata": {},
   "source": [
    "## 4. Scraping Job Listings from Indeed\n",
    "\n",
    "We will define the job title and location we are interested in and construct the URL for the job search. Then, we will scrape the job listings from the search results.\n"
   ]
  },
  {
   "cell_type": "code",
   "execution_count": null,
   "metadata": {},
   "outputs": [],
   "source": [
    "    job_ = 'Data+Engineer'\n",
    "    location = 'Boston'\n",
    "    url = f\"https://www.indeed.com/jobs?q={job_}&l={location}&vjk=d8e1abf4ae32e95e\"\n",
    "    numOfPages = 5\n",
    "    driver.get(url)\n",
    "\n",
    "    page_num = 1\n",
    "\n",
    "    for i in range(numOfPages):\n",
    "        job_counter = 0\n",
    "        wait = WebDriverWait(driver, 10)\n",
    "        p_element = wait.until(EC.presence_of_element_located((By.ID, 'jobsearch-JapanPage')))\n",
    "\n",
    "        job_listings = p_element.find_elements(By.CSS_SELECTOR, 'li.css-5lfssm')\n",
    "        for job_listing in job_listings:\n",
    "            data = []\n",
    "            driver.implicitly_wait(3)\n",
    "            \n",
    "            p_element = wait.until(EC.presence_of_element_located((By.ID, 'jobsearch-JapanPage')))\n",
    "            job_listings = p_element.find_elements(By.CSS_SELECTOR, 'li.css-5lfssm')\n",
    "\n",
    "            current_job = job_listings[job_counter]\n",
    "\n",
    "            driver.implicitly_wait(3)\n",
    "            try:\n",
    "                title = current_job.find_element(By.CSS_SELECTOR, 'h2.jobTitle').text\n",
    "            except:\n",
    "                job_counter += 1\n",
    "                continue\n",
    "\n",
    "            job_link_element = current_job.find_element(By.XPATH, f'/html/body/main/div/div[2]/div/div[5]/div/div[1]/div[5]/div/ul/li[{job_counter + 1}]/div/div[1]/div/div/div/table[1]/tbody/tr/td/div[1]/h2/a')\n",
    "            job_link = job_link_element.get_attribute('href')\n",
    "\n",
    "            driver.get(job_link)\n",
    "            \n",
    "            time.sleep(3)\n",
    "            main = driver.find_element(By.CSS_SELECTOR, 'div.jobsearch-JobComponent')\n",
    "            try:\n",
    "                salary = main.find_element(By.CSS_SELECTOR, 'span.css-19j1a75').text \n",
    "            except:\n",
    "                salary = 'undefined'\n",
    "\n",
    "            mini_main = main.find_element(By.CSS_SELECTOR, 'div.css-kyg8or')\n",
    "            try: \n",
    "                location = mini_main.find_element(By.XPATH, '//*[@id=\"viewJobSSRRoot\"]/div[2]/div[3]/div/div/div[1]/div[2]/div[1]/div[2]/div/div/div/div[2]').text\n",
    "            except:\n",
    "                job_counter += 1\n",
    "                driver.get(url)\n",
    "                continue\n",
    "\n",
    "            company = main.find_element(By.CSS_SELECTOR, 'a.e19afand0').text\n",
    "\n",
    "            summary = main.find_element(By.ID, 'jobDescriptionText').text\n",
    "            summary = summary.replace(\"\\n\", \" \")\n",
    "\n",
    "            data.append({'Job Title': title, 'Job URL': job_link, 'Company': company, 'Location': location, 'Job Description': summary, 'Salary': salary})\n",
    "            write_to_csv(data)\n",
    "            \n",
    "            job_counter += 1\n",
    "            driver.get(url)\n"
   ]
  },
  {
   "cell_type": "markdown",
   "metadata": {},
   "source": [
    "## 5. Navigating to the Next Page\n",
    "\n",
    "We will also need to handle pagination to scrape multiple pages of job listings. The following code snippet will navigate to the next page of job listings.\n"
   ]
  },
  {
   "cell_type": "code",
   "execution_count": null,
   "metadata": {},
   "outputs": [],
   "source": [
    "        page_list = p_element.find_element(By.CSS_SELECTOR, 'ul.css-1g90gv6')\n",
    "\n",
    "        pageNums = page_list.find_elements(By.CSS_SELECTOR,'li.css-227srf')\n",
    "\n",
    "        for num in pageNums:\n",
    "            try:\n",
    "                num_in_list = int(num.text)\n",
    "            except:\n",
    "                continue\n",
    "\n",
    "            if (page_num + 1)  == num_in_list:\n",
    "                page_num += 1\n",
    "                num.click()\n",
    "                driver.implicitly_wait(3)\n",
    "                url = driver.current_url\n",
    "                break\n",
    "            else: \n",
    "                continue\n",
    "\n",
    "    driver.quit()\n"
   ]
  }
 ],
 "metadata": {
  "kernelspec": {
   "display_name": "Python 3",
   "language": "python",
   "name": "python3"
  },
  "language_info": {
   "codemirror_mode": {
    "name": "ipython",
    "version": 3
   },
   "file_extension": ".py",
   "mimetype": "text/x-python",
   "name": "python",
   "nbconvert_exporter": "python",
   "pygments_lexer": "ipython3",
   "version": "3.9.6"
  }
 },
 "nbformat": 4,
 "nbformat_minor": 2
}
