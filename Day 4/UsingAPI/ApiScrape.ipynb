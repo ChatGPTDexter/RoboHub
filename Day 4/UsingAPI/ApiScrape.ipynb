{
 "cells": [
  {
   "cell_type": "markdown",
   "metadata": {},
   "source": [
    "## 1. Setting Up the Environment and Fetching the API Key\n",
    "\n",
    "First, we need to import the necessary libraries and fetch our YouTube API key from the environment variables."
   ]
  },
  {
   "cell_type": "code",
   "execution_count": null,
   "metadata": {},
   "outputs": [],
   "source": [
    "import os\n",
    "import csv\n",
    "import googleapiclient.discovery\n",
    "from youtube_transcript_api import YouTubeTranscriptApi\n",
    "from datetime import timedelta\n",
    "\n",
    "# Fetch API key from environment variable\n",
    "API_KEY = os.getenv('YOUTUBE_API_KEY')\n"
   ]
  },
  {
   "cell_type": "markdown",
   "metadata": {},
   "source": [
    "## 2. Searching for Playlists Based on a Query\n",
    "\n",
    "Next, we will define a function to search for playlists based on a query and check their length and average video duration.\n"
   ]
  },
  {
   "cell_type": "code",
   "execution_count": null,
   "metadata": {},
   "outputs": [],
   "source": [
    "def search_playlist(query):\n",
    "    youtube = googleapiclient.discovery.build('youtube', 'v3', developerKey=API_KEY)\n",
    "\n",
    "    request = youtube.search().list(\n",
    "        part='snippet',\n",
    "        q=query,\n",
    "        type='playlist',\n",
    "        maxResults=50  # Increase the number of results to check more playlists\n",
    "    )\n",
    "\n",
    "    response = request.execute()\n",
    "\n",
    "    if 'items' in response and len(response['items']) > 0:\n",
    "        for playlist in response['items']:\n",
    "            playlist_id = playlist['id']['playlistId']\n",
    "            playlist_title = playlist['snippet']['title']\n",
    "            print(f'Checking Playlist: {playlist_title} (ID: {playlist_id})')\n",
    "            \n",
    "            # Check playlist length and average video duration\n",
    "            if check_playlist_length(playlist_id) and check_average_video_duration(playlist_id):\n",
    "                print(f'Playlist Title: {playlist_title}')\n",
    "                print(f'Playlist ID: {playlist_id}')\n",
    "                return playlist_id\n",
    "            else:\n",
    "                print('Playlist does not meet the required length or average duration criteria.')\n",
    "\n",
    "    print('No suitable playlists found.')\n",
    "    return None\n"
   ]
  },
  {
   "cell_type": "markdown",
   "metadata": {},
   "source": [
    "## 3. Checking Playlist Length and Average Video Duration\n",
    "\n",
    "We will now define functions to check the playlist length and the average video duration.\n"
   ]
  },
  {
   "cell_type": "code",
   "execution_count": null,
   "metadata": {},
   "outputs": [],
   "source": [
    "def check_playlist_length(playlist_id):\n",
    "    youtube = googleapiclient.discovery.build('youtube', 'v3', developerKey=API_KEY)\n",
    "\n",
    "    request = youtube.playlistItems().list(\n",
    "        part='contentDetails',\n",
    "        playlistId=playlist_id,\n",
    "        maxResults=1\n",
    "    )\n",
    "\n",
    "    response = request.execute()\n",
    "\n",
    "    total_results = response['pageInfo']['totalResults']\n",
    "    return 15 <= total_results <= 25\n",
    "\n",
    "def check_average_video_duration(playlist_id):\n",
    "    youtube = googleapiclient.discovery.build('youtube', 'v3', developerKey=API_KEY)\n",
    "\n",
    "    request = youtube.playlistItems().list(\n",
    "        part='contentDetails',\n",
    "        playlistId=playlist_id,\n",
    "        maxResults=50  # Adjust as necessary to get all videos\n",
    "    )\n",
    "\n",
    "    response = request.execute()\n",
    "    video_ids = [item['contentDetails']['videoId'] for item in response['items']]\n",
    "\n",
    "    total_duration = timedelta()\n",
    "    for video_id in video_ids:\n",
    "        duration = get_video_duration(video_id)\n",
    "        total_duration += duration\n",
    "\n",
    "    average_duration = total_duration / len(video_ids)\n",
    "    return average_duration < timedelta(minutes=11)\n"
   ]
  },
  {
   "cell_type": "markdown",
   "metadata": {},
   "source": [
    "## 4. Extracting Video Details\n",
    "\n",
    "We will define functions to get video duration, parse the duration, get video view count, get video transcript, and extract video details.\n"
   ]
  },
  {
   "cell_type": "code",
   "execution_count": null,
   "metadata": {},
   "outputs": [],
   "source": [
    "def get_video_duration(video_id):\n",
    "    youtube = googleapiclient.discovery.build('youtube', 'v3', developerKey=API_KEY)\n",
    "\n",
    "    request = youtube.videos().list(\n",
    "        part='contentDetails',\n",
    "        id=video_id\n",
    "    )\n",
    "\n",
    "    response = request.execute()\n",
    "\n",
    "    if 'items' in response and len(response['items']) > 0:\n",
    "        duration = response['items'][0]['contentDetails']['duration']\n",
    "        return parse_duration(duration)\n",
    "    else:\n",
    "        return timedelta()\n",
    "\n",
    "def parse_duration(duration):\n",
    "    # Parse ISO 8601 duration\n",
    "    # For example, PT1H2M3S is 1 hour, 2 minutes, and 3 seconds\n",
    "    days = hours = minutes = seconds = 0\n",
    "    time_str = duration[2:]  # Remove 'PT' prefix\n",
    "\n",
    "    if 'D' in time_str:\n",
    "        days, time_str = time_str.split('D')\n",
    "        days = int(days)\n",
    "\n",
    "    if 'H' in time_str:\n",
    "        hours, time_str = time_str.split('H')\n",
    "        hours = int(hours)\n",
    "\n",
    "    if 'M' in time_str:\n",
    "        minutes, time_str = time_str.split('M')\n",
    "        minutes = int(minutes)\n",
    "\n",
    "    if 'S' in time_str:\n",
    "        seconds = time_str.split('S')[0]\n",
    "        seconds = int(seconds)\n",
    "\n",
    "    return timedelta(days=days, hours=hours, minutes=minutes, seconds=seconds)\n"
   ]
  },
  {
   "cell_type": "markdown",
   "metadata": {},
   "source": [
    "## 5. Getting Video Duration\n",
    "\n",
    "We will define a function to get the duration of a video by its video ID.\n"
   ]
  },
  {
   "cell_type": "code",
   "execution_count": null,
   "metadata": {},
   "outputs": [],
   "source": [
    "def get_video_duration(video_id):\n",
    "    youtube = googleapiclient.discovery.build('youtube', 'v3', developerKey=API_KEY)\n",
    "\n",
    "    request = youtube.videos().list(\n",
    "        part='contentDetails',\n",
    "        id=video_id\n",
    "    )\n",
    "\n",
    "    response = request.execute()\n",
    "\n",
    "    if 'items' in response and len(response['items']) > 0:\n",
    "        duration = response['items'][0]['contentDetails']['duration']\n",
    "        return parse_duration(duration)\n",
    "    else:\n",
    "        return timedelta()\n"
   ]
  },
  {
   "cell_type": "markdown",
   "metadata": {},
   "source": [
    "## 6. Parsing Video Duration\n",
    "\n",
    "We will define a function to parse the ISO 8601 duration format returned by the YouTube API into a Python `timedelta` object.\n"
   ]
  },
  {
   "cell_type": "code",
   "execution_count": null,
   "metadata": {},
   "outputs": [],
   "source": [
    "def parse_duration(duration):\n",
    "    # Parse ISO 8601 duration\n",
    "    # For example, PT1H2M3S is 1 hour, 2 minutes, and 3 seconds\n",
    "    days = hours = minutes = seconds = 0\n",
    "    time_str = duration[2:]  # Remove 'PT' prefix\n",
    "\n",
    "    if 'D' in time_str:\n",
    "        days, time_str = time_str.split('D')\n",
    "        days = int(days)\n",
    "\n",
    "    if 'H' in time_str:\n",
    "        hours, time_str = time_str.split('H')\n",
    "        hours = int(hours)\n",
    "\n",
    "    if 'M' in time_str:\n",
    "        minutes, time_str = time_str.split('M')\n",
    "        minutes = int(minutes)\n",
    "\n",
    "    if 'S' in time_str:\n",
    "        seconds = time_str.split('S')[0]\n",
    "        seconds = int(seconds)\n",
    "\n",
    "    return timedelta(days=days, hours=hours, minutes=minutes, seconds=seconds)\n"
   ]
  },
  {
   "cell_type": "markdown",
   "metadata": {},
   "source": [
    "## 7. Getting Video View Count\n",
    "\n",
    "We will define a function to get the view count of a video by its video ID.\n"
   ]
  },
  {
   "cell_type": "code",
   "execution_count": null,
   "metadata": {},
   "outputs": [],
   "source": [
    "def get_video_viewcount(video_id):\n",
    "    youtube = googleapiclient.discovery.build('youtube', 'v3', developerKey=API_KEY)\n",
    "\n",
    "    request = youtube.videos().list(\n",
    "        part='statistics',\n",
    "        id=video_id\n",
    "    )\n",
    "\n",
    "    response = request.execute()\n",
    "\n",
    "    if 'items' in response and len(response['items']) > 0:\n",
    "        view_count = response['items'][0]['statistics']['viewCount']\n",
    "        return view_count\n",
    "    else:\n",
    "        return 'View count not available'\n"
   ]
  },
  {
   "cell_type": "markdown",
   "metadata": {},
   "source": [
    "## 8. Getting Video Transcript\n",
    "\n",
    "We will define a function to get the transcript of a video by its video ID using the `YouTubeTranscriptApi`.\n"
   ]
  },
  {
   "cell_type": "code",
   "execution_count": null,
   "metadata": {},
   "outputs": [],
   "source": [
    "def get_video_transcript(video_id):\n",
    "    try:\n",
    "        transcript = YouTubeTranscriptApi.get_transcript(video_id)\n",
    "        text = ' '.join([line['text'] for line in transcript]).replace('\\n', ' ')  # Remove newlines from transcript\n",
    "        return text\n",
    "    except Exception as e:\n",
    "        print(f'Error fetching transcript: {str(e)}')\n",
    "        return 'Transcript not available'\n"
   ]
  },
  {
   "cell_type": "markdown",
   "metadata": {},
   "source": [
    "## 9. Extracting Video Details\n",
    "\n",
    "We will define a function to extract details of videos in a playlist, including title, description, URL, view count, and transcript.\n"
   ]
  },
  {
   "cell_type": "code",
   "execution_count": null,
   "metadata": {},
   "outputs": [],
   "source": [
    "def get_video_details(playlist_id, filepath):\n",
    "    youtube = googleapiclient.discovery.build('youtube', 'v3', developerKey=API_KEY)\n",
    "\n",
    "    request = youtube.playlistItems().list(\n",
    "        part='snippet',\n",
    "        playlistId=playlist_id,\n",
    "        maxResults=20  \n",
    "    )\n",
    "\n",
    "    response = request.execute()\n",
    "\n",
    "    # Create a list to store all video information\n",
    "    videos_info = []\n",
    "\n",
    "    for item in response['items']:\n",
    "        video_id = item['snippet']['resourceId']['videoId']\n",
    "        video_title = item['snippet']['title'].replace('\\n', ' ') \n",
    "        video_description = item['snippet']['description'].replace('\\n', ' ')  # Remove newlines from description\n",
    "        video_url = f'https://www.youtube.com/watch?v={video_id}'\n",
    "        video_viewcount = get_video_viewcount(video_id)\n",
    "        video_transcript = get_video_transcript(video_id)\n",
    "\n",
    "        # Collect video information into a dictionary\n",
    "        information = {\n",
    "            'Title': video_title.replace('\\n', ' ') ,\n",
    "            'Description': video_description.replace('\\n', ' ') ,\n",
    "            'URL': video_url,\n",
    "            'Transcript': video_transcript[:25000].replace('\\n', ' '),\n",
    "            'ViewCount': video_viewcount,\n",
    "            'date': 0,  # You can set the date or any other metadata here\n",
    "            'video-index': 0  # You can set the index or any other metadata here\n",
    "        }\n",
    "\n",
    "        print(information)\n",
    "        videos_info.append(information)\n",
    "\n",
    "    # Write collected information to CSV\n",
    "    write_to_csv(videos_info, filepath)\n"
   ]
  },
  {
   "cell_type": "markdown",
   "metadata": {},
   "source": [
    "## 10. Writing the Extracted Data to a CSV File\n",
    "\n",
    "We will define a function to write the extracted video details to a CSV file.\n"
   ]
  },
  {
   "cell_type": "code",
   "execution_count": null,
   "metadata": {},
   "outputs": [],
   "source": [
    "def write_to_csv(data, filepath):\n",
    "    # Specify the CSV file path\n",
    "    csv_file_path = filepath\n",
    "\n",
    "    # Write the data to the CSV file\n",
    "    with open(csv_file_path, 'w', newline='', encoding='utf-8') as csv_file):\n",
    "        fieldnames = ['Title', 'Description', 'URL', 'Transcript', 'ViewCount', 'date', 'video-index']\n",
    "        writer = csv.DictWriter(csv_file, fieldnames=fieldnames)\n",
    "\n",
    "        # Write the header row\n",
    "        writer.writeheader()\n",
    "\n",
    "        # Write the data rows\n",
    "        writer.writerows(data)\n"
   ]
  },
  {
   "cell_type": "markdown",
   "metadata": {},
   "source": [
    "## Putting It All Together\n",
    "\n",
    "Here is how you can use the defined functions to search for a playlist, extract video details, and write them to a CSV file.\n"
   ]
  },
  {
   "cell_type": "code",
   "execution_count": null,
   "metadata": {},
   "outputs": [],
   "source": [
    "# Example usage\n",
    "query = \"Python Programming\"\n",
    "playlist_id = search_playlist(query)\n",
    "\n",
    "if playlist_id:\n",
    "    filepath = \"/tmp/youtube_data.csv\"\n",
    "    get_video_details(playlist_id, filepath)\n",
    "    print(f'Data written to {filepath}')\n",
    "else:\n",
    "    print('No suitable playlists found.')\n"
   ]
  }
 ],
 "metadata": {
  "language_info": {
   "name": "python"
  }
 },
 "nbformat": 4,
 "nbformat_minor": 2
}
