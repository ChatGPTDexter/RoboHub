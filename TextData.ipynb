{
 "cells": [
  {
   "cell_type": "markdown",
   "metadata": {},
   "source": [
    "## Section 1: Importing Libraries and Loading Data\n",
    "\n",
    "We will start by importing the necessary libraries and loading our dataset. This dataset contains information about chemistry YouTube videos.\n"
   ]
  },
  {
   "cell_type": "code",
   "execution_count": null,
   "metadata": {},
   "outputs": [],
   "source": [
    "import pandas as pd\n",
    "import numpy as np\n",
    "import matplotlib.pyplot as plt\n",
    "from sklearn.cluster import KMeans\n",
    "from umap import UMAP\n",
    "from scipy.sparse.csgraph import minimum_spanning_tree\n",
    "from sklearn.metrics.pairwise import cosine_distances\n",
    "from sklearn.preprocessing import MinMaxScaler\n",
    "import openai\n",
    "from dotenv import load_dotenv\n",
    "import os\n",
    "from scipy.spatial import ConvexHull, distance\n",
    "from sklearn.metrics.pairwise import euclidean_distances\n",
    "\n",
    "# Load OpenAI API key from environment variable for security\n",
    "load_dotenv()\n",
    "api_key = os.getenv(\"apikey\")\n",
    "openai.api_key = api_key\n",
    "\n",
    "# Load the dataset\n",
    "data = pd.read_csv('chemistry2.csv')\n",
    "\n",
    "# Display the first few rows of the dataset\n",
    "print(\"First few rows of the dataset:\")\n",
    "print(data.head())\n"
   ]
  },
  {
   "cell_type": "markdown",
   "metadata": {},
   "source": [
    "## Section 2: Embedding Generation\n",
    "\n",
    "We will use OpenAI's API to generate embeddings for the text data. Embeddings are vector representations of text that capture semantic relationships.\n"
   ]
  },
  {
   "cell_type": "code",
   "execution_count": null,
   "metadata": {},
   "outputs": [],
   "source": [
    "def get_embeddings_batch(inputs):\n",
    "    embeddings = []\n",
    "    for input_text in inputs:\n",
    "        response = openai.Embedding.create(\n",
    "            input=input_text,\n",
    "            model=\"text-embedding-3-large\"\n",
    "        )\n",
    "        embedding = np.array(response['data'][0]['embedding'])\n",
    "        embeddings.append(embedding)\n",
    "    return np.array(embeddings)\n",
    "\n",
    "# Generate embeddings for the text data\n",
    "final_array = data['Title'] + \" \" + data['Description'] + \" \" + data['Transcript']\n",
    "embeddings = get_embeddings_batch(final_array.tolist())\n"
   ]
  },
  {
   "cell_type": "markdown",
   "metadata": {},
   "source": [
    "## Section 3: Cosine Similarity\n",
    "\n",
    "Cosine similarity is used to measure the similarity between two vectors. It is commonly used in text analysis to compare document embeddings.\n"
   ]
  },
  {
   "cell_type": "code",
   "execution_count": null,
   "metadata": {},
   "outputs": [],
   "source": [
    "def cosine_similarity(a, b):\n",
    "    dot_product = np.dot(a, b)\n",
    "    norm_a = np.linalg.norm(a)\n",
    "    norm_b = np.linalg.norm(b)\n",
    "    return dot_product / (norm_a * norm_b)\n",
    "\n",
    "# Example: Calculate cosine similarity between the first two embeddings\n",
    "similarity = cosine_similarity(embeddings[0], embeddings[1])\n",
    "print(f\"Cosine Similarity between first two embeddings: {similarity}\")\n"
   ]
  },
  {
   "cell_type": "markdown",
   "metadata": {},
   "source": [
    "## Section 4: Data Normalization\n",
    "\n",
    "We will normalize the view counts and transcript lengths to ensure they are on a comparable scale.\n"
   ]
  },
  {
   "cell_type": "code",
   "execution_count": null,
   "metadata": {},
   "outputs": [],
   "source": [
    "# Normalize view counts\n",
    "data['ViewCount'] = data['ViewCount'].str.replace(',', '').astype(float)\n",
    "scaler_view = MinMaxScaler(feature_range=(5, 60))\n",
    "data['NormalizedViewCount'] = scaler_view.fit_transform(data[['ViewCount']])\n",
    "\n",
    "# Normalize transcript lengths\n",
    "data['TranscriptLength'] = data['Transcript'].apply(lambda x: len(str(x).split()))\n",
    "scaler_transcript = MinMaxScaler(feature_range=(1, 10))\n",
    "data['NormalizedTranscriptLength'] = scaler_transcript.fit_transform(data[['TranscriptLength']])\n",
    "\n",
    "# Summary of normalized values\n",
    "print(\"Summary of Normalized View Counts:\")\n",
    "print(data['NormalizedViewCount'].describe())\n",
    "print(\"\\nSummary of Normalized Transcript Lengths:\")\n",
    "print(data['NormalizedTranscriptLength'].describe())\n"
   ]
  },
  {
   "cell_type": "markdown",
   "metadata": {},
   "source": [
    "## Section 5: UMAP Visualization\n",
    "\n",
    "UMAP (Uniform Manifold Approximation and Projection) is a technique used for dimensionality reduction and visualization. We will use UMAP to visualize the embeddings in 2D space.\n"
   ]
  },
  {
   "cell_type": "code",
   "execution_count": null,
   "metadata": {},
   "outputs": [],
   "source": [
    "# Apply UMAP to reduce the embeddings to 2D\n",
    "umap_model = UMAP(n_neighbors=15, min_dist=0.1, n_components=2, metric='cosine')\n",
    "umap_coords = umap_model.fit_transform(embeddings)\n",
    "\n",
    "# Add UMAP coordinates to the dataframe\n",
    "data['x'] = umap_coords[:, 0]\n",
    "data['y'] = umap_coords[:, 1]\n",
    "\n",
    "# Plot UMAP\n",
    "plt.figure(figsize=(10, 7))\n",
    "plt.scatter(data['x'], data['y'], c=data['NormalizedViewCount'], cmap='viridis', s=50, alpha=0.7)\n",
    "plt.colorbar(label='Normalized View Count')\n",
    "plt.title('UMAP Projection of Embeddings')\n",
    "plt.xlabel('UMAP x-coordinate')\n",
    "plt.ylabel('UMAP y-coordinate')\n",
    "plt.show()\n"
   ]
  },
  {
   "cell_type": "markdown",
   "metadata": {},
   "source": [
    "## Section 6: K-means Clustering\n",
    "\n",
    "K-means clustering is an unsupervised learning algorithm used to group data points into clusters. We will apply K-means clustering to the embeddings and visualize the results.\n"
   ]
  },
  {
   "cell_type": "code",
   "execution_count": null,
   "metadata": {},
   "outputs": [],
   "source": [
    "# Apply K-means clustering\n",
    "kmeans = KMeans(n_clusters=5, random_state=42)\n",
    "data['cluster'] = kmeans.fit_predict(embeddings)\n",
    "\n",
    "# Plot UMAP with clusters\n",
    "plt.figure(figsize=(10, 7))\n",
    "plt.scatter(data['x'], data['y'], c=data['cluster'], cmap='tab10', s=50, alpha=0.7)\n",
    "plt.colorbar(label='Cluster')\n",
    "plt.title('UMAP Projection with K-means Clusters')\n",
    "plt.xlabel('UMAP x-coordinate')\n",
    "plt.ylabel('UMAP y-coordinate')\n",
    "plt.show()\n"
   ]
  },
  {
   "cell_type": "markdown",
   "metadata": {},
   "source": [
    "## Section 7: Minimum Spanning Tree (MST)\n",
    "\n",
    "Minimum Spanning Tree (MST) is used to connect all points in a graph with the minimum possible total edge weight. We will create MSTs for each cluster and visualize them.\n"
   ]
  },
  {
   "cell_type": "code",
   "execution_count": null,
   "metadata": {},
   "outputs": [],
   "source": [
    "# Create MST for each cluster\n",
    "def create_minimum_spanning_tree(cluster_data):\n",
    "    cluster_coords = cluster_data[['x', 'y']].values\n",
    "    if len(cluster_coords) > 1:\n",
    "        pairwise_distances = euclidean_distances(cluster_coords)\n",
    "        mst = minimum_spanning_tree(pairwise_distances)\n",
    "        edges = mst.nonzero()\n",
    "        return edges\n",
    "    return None\n",
    "\n",
    "# Plot MSTs on UMAP\n",
    "plt.figure(figsize=(15, 10))\n",
    "unique_clusters = data['cluster'].unique()\n",
    "colors = plt.cm.tab10(np.linspace(0, 1, len(unique_clusters)))\n",
    "\n",
    "for cluster_id, color in zip(unique_clusters, colors):\n",
    "    cluster_data = data[data['cluster'] == cluster_id]\n",
    "    plt.scatter(cluster_data['x'], cluster_data['y'], c=[color], s=50, alpha=0.7, label=f'Cluster {cluster_id}')\n",
    "    edges = create_minimum_spanning_tree(cluster_data)\n",
    "    if edges is not None:\n",
    "        for start, end in zip(edges[0], edges[1]):\n",
    "            plt.plot([cluster_data.iloc[start]['x'], cluster_data.iloc[end]['x']],\n",
    "                     [cluster_data.iloc[start]['y'], cluster_data.iloc[end]['y']],\n",
    "                     c=color, alpha=0.5, linewidth=1.5)\n",
    "\n",
    "plt.title('UMAP Projection with K-means Clusters and MST')\n",
    "plt.xlabel('UMAP x-coordinate')\n",
    "plt.ylabel('UMAP y-coordinate')\n",
    "plt.legend()\n",
    "plt.show()\n"
   ]
  }
 ],
 "metadata": {
  "language_info": {
   "name": "python"
  }
 },
 "nbformat": 4,
 "nbformat_minor": 2
}
