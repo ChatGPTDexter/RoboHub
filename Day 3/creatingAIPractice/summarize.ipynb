{
 "cells": [
  {
   "cell_type": "markdown",
   "metadata": {},
   "source": [
    "Import the libraries (remember openai) and reference the csv file"
   ]
  },
  {
   "cell_type": "code",
   "execution_count": 9,
   "metadata": {},
   "outputs": [],
   "source": [
    "import pandas as pd\n",
    "from openai import OpenAI\n",
    "\n",
    "client = OpenAI()\n",
    "\n",
    "\n",
    "df = pd.read_csv('chemistry.csv')  # Replace 'your_file.csv' with the path to your CSV file\n"
   ]
  },
  {
   "cell_type": "markdown",
   "metadata": {},
   "source": [
    "Use the openai's api for ai to summarize the transcripts and create questions based off of them "
   ]
  },
  {
   "cell_type": "code",
   "execution_count": 10,
   "metadata": {},
   "outputs": [],
   "source": [
    "def get_summary(transcript):\n",
    "    response = client.chat.completions.create(\n",
    "        model=\"gpt-4o-mini\",  # You can use any model suited for summarization\n",
    "        messages=[\n",
    "            {\"role\": \"system\", \"content\": \"You are the master at summarizing\"},\n",
    "            {\"role\": \"user\", \"content\": \"Sumarize this transcript\" + transcript}\n",
    "        ],\n",
    "        max_tokens=150,\n",
    "        temperature=0.7\n",
    "    )\n",
    "    summary = response.choices[0].message.content\n",
    "    return summary\n",
    "\n",
    "# Function to get questions based on the transcript\n",
    "def get_questions(transcript):\n",
    "    response = client.chat.completions.create(\n",
    "        model=\"gpt-4o-mini\",  # You can use any model suited for question generation\n",
    "        messages=[\n",
    "            {\"role\": \"system\", \"content\": \"You are the master at giving questions\"},\n",
    "            {\"role\": \"user\", \"content\": \"Make 2 questions based on this transcript: \" + transcript}\n",
    "        ],\n",
    "        max_tokens=500,\n",
    "        temperature=0.7\n",
    "    )\n",
    "    questions = response.choices[0].message.content\n",
    "    return questions"
   ]
  },
  {
   "cell_type": "markdown",
   "metadata": {},
   "source": [
    "Print 3 of the summaries and each of their questions"
   ]
  },
  {
   "cell_type": "code",
   "execution_count": 11,
   "metadata": {},
   "outputs": [
    {
     "name": "stdout",
     "output_type": "stream",
     "text": [
      "Processing: Introduction to Geometry: Ancient Greece and the Pythagoreans\n",
      "\n",
      "Summary:\n",
      "Professor Dave discusses the significance of Ancient Greece, particularly its contributions to mathematics, focusing on geometry. He highlights Pythagoras as a key figure whose work influenced Western civilization and laid the groundwork for geometry, which began with drawing shapes in sand. Mathematics, according to Dave, is characterized by objective answers, contrasting with the uncertainty found in natural philosophy. He mentions Pythagoras's followers, the Pythagoreans, who mixed math with mysticism, although some of their beliefs, like celestial orbits obeying numerical ratios, were later proven false. Despite this, their contributions have had a lasting impact, leading to the geometry taught today, which remains closely linked to ancient principles. The segment sets the stage for a deeper exploration of geometric\n",
      "\n",
      "Questions:\n",
      "1. What were some of the significant contributions of Ancient Greece to the fields of philosophy, government, and mathematics, as discussed in Professor Dave's transcript?\n",
      "\n",
      "2. How did Pythagoras and the Pythagoreans influence the development of geometry, and what were some of the beliefs they held about numbers and celestial bodies?\n",
      "\n",
      "==================================================\n",
      "\n",
      "Processing: Basic Euclidean Geometry: Points, Lines, and Planes\n",
      "\n",
      "Summary:\n",
      "In this transcript, Professor Dave introduces the fundamental concepts of geometry, particularly focusing on points, lines, and planes, rooted in Euclidean geometry established by the ancient Greek mathematician Euclid. He explains that a point is a zero-dimensional location in space, represented by a dot and a capital letter. By connecting an infinite number of points, we create a one-dimensional line. Further, by extending lines perpendicularly, we form a two-dimensional plane, and stacking planes results in three-dimensional space.\n",
      "\n",
      "He emphasizes the relationships between these geometric constructs: two points define a line, and three non-collinear points define a plane. Although these figures are idealized concepts and cannot exist perfectly in the physical world, they help in understanding and approximating Euclidean\n",
      "\n",
      "Questions:\n",
      "1. What are the characteristics that distinguish points, lines, and planes in Euclidean geometry, and how do they relate to dimensions?\n",
      "\n",
      "2. How do the concepts of rays and line segments differ from that of a line in terms of their defining points and endpoints?\n",
      "\n",
      "==================================================\n",
      "\n",
      "Processing: Types of Angles and Angle Relationships\n",
      "\n",
      "Summary:\n",
      "Professor Dave discusses the concept of angles, starting with the intersection of two lines and how they form angles. He explains that angles measure the distance between rays originating from a common point, or vertex, and that they are independent of the dimensions of objects. Angles are measured in degrees, with a full circle encompassing 360 degrees. \n",
      "\n",
      "He categorizes angles into three types: acute (less than 90 degrees), right (exactly 90 degrees), and obtuse (between 90 and 180 degrees). When two lines intersect, they create four angles, including vertical angles (which are equal) and adjacent angles (which can be supplementary). He introduces complementary angles, which sum to 90 degrees.\n",
      "\n",
      "The discussion extends to relationships between lines,\n",
      "\n",
      "Questions:\n",
      "1. What are the three types of angles discussed in the transcript, and how can they be identified based on their measurements?\n",
      "  \n",
      "2. How do vertical angles and supplementary angles differ when two lines intersect, and what are the implications of these relationships in solving for unknown angles?\n",
      "\n",
      "==================================================\n",
      "\n",
      "Processing: Types of Triangles in Euclidean Geometry\n",
      "\n",
      "Summary:\n",
      "In this lesson, Professor Dave explains the different types of triangles based on their angles and side lengths. Triangles can be categorized into three angle types: acute triangles (all angles less than 90 degrees), obtuse triangles (one angle greater than 90 degrees), and right triangles (one angle equal to 90 degrees). He emphasizes that the sum of a triangle's angles is always 180 degrees, which restricts the number of obtuse and right angles to one per triangle.\n",
      "\n",
      "Triangles are also classified by side lengths: scalene triangles have three sides of different lengths, isosceles triangles have two sides of equal length (and thus two equal angles), and equilateral triangles have all sides the same length, resulting in three angles of \n",
      "\n",
      "Questions:\n",
      "1. What are the three main classifications of triangles based on their angles, and how does each classification affect the measures of the angles within the triangle?\n",
      "\n",
      "2. How can triangles be classified based on their side lengths, and what are the specific characteristics that define scalene, isosceles, and equilateral triangles?\n",
      "\n",
      "==================================================\n",
      "\n"
     ]
    }
   ],
   "source": [
    "counter = 0\n",
    "for index, row in df.iterrows():\n",
    "    title = row['Title']\n",
    "    transcript = row['Transcript']\n",
    "    \n",
    "    print(f\"Processing: {title}\\n\")\n",
    "    \n",
    "    # Get summary and questions\n",
    "    summary = get_summary(transcript)\n",
    "    questions = get_questions(transcript)\n",
    "\n",
    "    # Print the results\n",
    "    print(\"Summary:\")\n",
    "    print(summary)\n",
    "    print(\"\\nQuestions:\")\n",
    "    print(questions)\n",
    "    print(\"\\n\" + \"=\"*50 + \"\\n\")\n",
    "    counter += 1\n",
    "    if counter > 3:\n",
    "        break"
   ]
  }
 ],
 "metadata": {
  "kernelspec": {
   "display_name": "Python 3",
   "language": "python",
   "name": "python3"
  },
  "language_info": {
   "codemirror_mode": {
    "name": "ipython",
    "version": 3
   },
   "file_extension": ".py",
   "mimetype": "text/x-python",
   "name": "python",
   "nbconvert_exporter": "python",
   "pygments_lexer": "ipython3",
   "version": "3.12.2"
  }
 },
 "nbformat": 4,
 "nbformat_minor": 2
}
